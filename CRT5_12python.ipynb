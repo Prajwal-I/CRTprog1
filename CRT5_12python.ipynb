{
  "nbformat": 4,
  "nbformat_minor": 0,
  "metadata": {
    "colab": {
      "name": "CRT5-12python.ipynb",
      "provenance": [],
      "include_colab_link": true
    },
    "kernelspec": {
      "name": "python3",
      "display_name": "Python 3"
    }
  },
  "cells": [
    {
      "cell_type": "markdown",
      "metadata": {
        "id": "view-in-github",
        "colab_type": "text"
      },
      "source": [
        "<a href=\"https://colab.research.google.com/github/codex8085/CRTprog1/blob/master/CRT5_12python.ipynb\" target=\"_parent\"><img src=\"https://colab.research.google.com/assets/colab-badge.svg\" alt=\"Open In Colab\"/></a>"
      ]
    },
    {
      "cell_type": "code",
      "metadata": {
        "id": "KrF5edLqKhqz",
        "colab_type": "code",
        "colab": {
          "base_uri": "https://localhost:8080/",
          "height": 85
        },
        "outputId": "ad70041f-9485-4c87-bbb8-2f581b3cdb6c"
      },
      "source": [
        "#basic list functions\n",
        "li=[1,2,3,4,5]\n",
        "print(min(li))\n",
        "print(max(li))\n",
        "print(sum(li))\n",
        "print(sum(li)//len(li))\n"
      ],
      "execution_count": 2,
      "outputs": [
        {
          "output_type": "stream",
          "text": [
            "1\n",
            "5\n",
            "15\n",
            "3\n"
          ],
          "name": "stdout"
        }
      ]
    },
    {
      "cell_type": "code",
      "metadata": {
        "id": "QxHpFJzXLuUe",
        "colab_type": "code",
        "colab": {
          "base_uri": "https://localhost:8080/",
          "height": 34
        },
        "outputId": "3b0c8087-4e45-4cde-d59b-1a1d527e1d27"
      },
      "source": [
        "li=[1,2,21,12,2]\n",
        "li.append(29) #adds element at end\n",
        "li.insert(2,56)#inserts '56' at index 2\n",
        "li.count(2)#counts how many times 2 is repeated in the list\n",
        "li.index(21) # prints index of 21"
      ],
      "execution_count": 11,
      "outputs": [
        {
          "output_type": "execute_result",
          "data": {
            "text/plain": [
              "3"
            ]
          },
          "metadata": {
            "tags": []
          },
          "execution_count": 11
        }
      ]
    },
    {
      "cell_type": "code",
      "metadata": {
        "id": "m8zevJPCNiYh",
        "colab_type": "code",
        "colab": {
          "base_uri": "https://localhost:8080/",
          "height": 34
        },
        "outputId": "cc80f450-8bd8-4f94-a343-3efdba9b6da4"
      },
      "source": [
        "# method of list object\n",
        "li=[1,12,423,32,556,34]\n",
        "li.sort() #sorts the list in ascending order\n",
        "li"
      ],
      "execution_count": 12,
      "outputs": [
        {
          "output_type": "execute_result",
          "data": {
            "text/plain": [
              "[1, 12, 32, 34, 423, 556]"
            ]
          },
          "metadata": {
            "tags": []
          },
          "execution_count": 12
        }
      ]
    },
    {
      "cell_type": "code",
      "metadata": {
        "id": "KLZ6rxpGODUo",
        "colab_type": "code",
        "colab": {
          "base_uri": "https://localhost:8080/",
          "height": 34
        },
        "outputId": "5ea3de18-9dfe-4348-d10f-6372135270d7"
      },
      "source": [
        "li=[21,42,22,3,1,33]\n",
        "li.pop() #deletes the last element in the list\n",
        "li"
      ],
      "execution_count": 13,
      "outputs": [
        {
          "output_type": "execute_result",
          "data": {
            "text/plain": [
              "[21, 42, 22, 3, 1]"
            ]
          },
          "metadata": {
            "tags": []
          },
          "execution_count": 13
        }
      ]
    },
    {
      "cell_type": "code",
      "metadata": {
        "id": "Hsckd-3MOwXC",
        "colab_type": "code",
        "colab": {
          "base_uri": "https://localhost:8080/",
          "height": 34
        },
        "outputId": "be05b80b-3138-4197-fb05-76ab52d27a2c"
      },
      "source": [
        "li=[1,22,12,2,1,254]\n",
        "li.pop(2)# deletes the element at index 2\n",
        "li"
      ],
      "execution_count": 16,
      "outputs": [
        {
          "output_type": "execute_result",
          "data": {
            "text/plain": [
              "[1, 22, 2, 1, 254]"
            ]
          },
          "metadata": {
            "tags": []
          },
          "execution_count": 16
        }
      ]
    },
    {
      "cell_type": "code",
      "metadata": {
        "id": "D-T7iqzQPpLX",
        "colab_type": "code",
        "colab": {
          "base_uri": "https://localhost:8080/",
          "height": 34
        },
        "outputId": "06031922-cc18-487f-97bf-4aac2d074af2"
      },
      "source": [
        "li1=[1,2,3]\n",
        "li.extend(li1) # adds li1 to li\n",
        "li"
      ],
      "execution_count": 17,
      "outputs": [
        {
          "output_type": "execute_result",
          "data": {
            "text/plain": [
              "[1, 22, 2, 1, 254, 1, 2, 3]"
            ]
          },
          "metadata": {
            "tags": []
          },
          "execution_count": 17
        }
      ]
    },
    {
      "cell_type": "code",
      "metadata": {
        "id": "YPqP8jPZQWpD",
        "colab_type": "code",
        "colab": {
          "base_uri": "https://localhost:8080/",
          "height": 34
        },
        "outputId": "3f347827-886c-4c77-8ff8-04ab7f813824"
      },
      "source": [
        "li=[1,2,3,4]\n",
        "li.reverse() # reverses the list\n",
        "li"
      ],
      "execution_count": 19,
      "outputs": [
        {
          "output_type": "execute_result",
          "data": {
            "text/plain": [
              "[4, 3, 2, 1]"
            ]
          },
          "metadata": {
            "tags": []
          },
          "execution_count": 19
        }
      ]
    },
    {
      "cell_type": "code",
      "metadata": {
        "id": "S0zkUBShR1wa",
        "colab_type": "code",
        "colab": {
          "base_uri": "https://localhost:8080/",
          "height": 34
        },
        "outputId": "b152b5a8-f925-4d66-9b00-f3aefc3728e8"
      },
      "source": [
        "def larnum(li): #prints the largest num in list\n",
        "  li.sort()\n",
        "  return li[-1]\n",
        "def genriclarge(li,n): # prints the nth largest number\n",
        "  li.sort()\n",
        "  return li[-n]\n",
        "li=[1,2,3,4,5,6]\n",
        "larnum(li)\n",
        "genriclarge(li,2)"
      ],
      "execution_count": 28,
      "outputs": [
        {
          "output_type": "execute_result",
          "data": {
            "text/plain": [
              "5"
            ]
          },
          "metadata": {
            "tags": []
          },
          "execution_count": 28
        }
      ]
    },
    {
      "cell_type": "code",
      "metadata": {
        "id": "BUugwd4PSlLH",
        "colab_type": "code",
        "colab": {
          "base_uri": "https://localhost:8080/",
          "height": 51
        },
        "outputId": "7747e086-41fc-487d-d729-6417faffbbd4"
      },
      "source": [
        "def small(li):\n",
        "  li.sort()\n",
        "  return li[0]\n",
        "def genericsmall(li,n):\n",
        "  li.sort()\n",
        "  return li[n-1]\n",
        "li=[22,1,53,21,64,23]\n",
        "print(small(li))\n",
        "print(genericsmall(li,3))"
      ],
      "execution_count": 29,
      "outputs": [
        {
          "output_type": "stream",
          "text": [
            "1\n",
            "22\n"
          ],
          "name": "stdout"
        }
      ]
    },
    {
      "cell_type": "markdown",
      "metadata": {
        "id": "ZucUwTXfYyC2",
        "colab_type": "text"
      },
      "source": [
        "# tuples\n",
        "- list-->[ ],  tuples-->( )\n",
        "### list\n",
        "- are mutable,can be changed or modified.\n",
        "- used to access, modify,add and delete data.\n",
        "### tuples\n",
        "- are immutable, cant be changed\n",
        "- used to access data only"
      ]
    },
    {
      "cell_type": "code",
      "metadata": {
        "id": "SLvMr-P4ZrQq",
        "colab_type": "code",
        "colab": {
          "base_uri": "https://localhost:8080/",
          "height": 34
        },
        "outputId": "8611669e-c235-4aa5-c7e7-9bcc0b768fc0"
      },
      "source": [
        "tup=(1,2,3)  # ignore\n",
        "tup2=(4,5,6)\n",
        "tup=tup+tup2\n",
        "tup"
      ],
      "execution_count": 38,
      "outputs": [
        {
          "output_type": "execute_result",
          "data": {
            "text/plain": [
              "(1, 2, 3, 4, 5, 6)"
            ]
          },
          "metadata": {
            "tags": []
          },
          "execution_count": 38
        }
      ]
    },
    {
      "cell_type": "code",
      "metadata": {
        "id": "HgOcpbsDaRQ4",
        "colab_type": "code",
        "colab": {
          "base_uri": "https://localhost:8080/",
          "height": 34
        },
        "outputId": "63784288-6e20-4d83-de47-e9011c85b7d6"
      },
      "source": [
        "t1=(1,2,3,4,5,6)\n",
        "print(type(t1),t1[1:5])  # from index 1 to 4"
      ],
      "execution_count": 39,
      "outputs": [
        {
          "output_type": "stream",
          "text": [
            "<class 'tuple'> (2, 3, 4, 5)\n"
          ],
          "name": "stdout"
        }
      ]
    },
    {
      "cell_type": "markdown",
      "metadata": {
        "id": "27QcXLNIb0_i",
        "colab_type": "text"
      },
      "source": [
        "# dictionaries\n",
        "1. it works on the concept of set unique data\n",
        "2. keys, values is the unique identifiers for values.\n",
        "3. each key is seperated by its value by :  (1st key:value)\n",
        "4. each key and value is seperated by a ,\n",
        "5. dictionaries are enacted with { }"
      ]
    },
    {
      "cell_type": "code",
      "metadata": {
        "id": "mjQZd-umdUBu",
        "colab_type": "code",
        "colab": {
          "base_uri": "https://localhost:8080/",
          "height": 34
        },
        "outputId": "654e612d-f0ef-45d0-dbb9-b2faca70d154"
      },
      "source": [
        "d1={\"name\":\"gitam\",\"email\":\"gitam@gmail.com\",\"address\":\"hyderabad\"}\n",
        "d1[\"name\"]  # access a specific key\n",
        "d"
      ],
      "execution_count": 43,
      "outputs": [
        {
          "output_type": "execute_result",
          "data": {
            "text/plain": [
              "{'address': 'hyderabad', 'email': 'gitam@gmail.com', 'name': 'gitam'}"
            ]
          },
          "metadata": {
            "tags": []
          },
          "execution_count": 43
        }
      ]
    },
    {
      "cell_type": "code",
      "metadata": {
        "id": "OiNHez2cd4ZI",
        "colab_type": "code",
        "colab": {
          "base_uri": "https://localhost:8080/",
          "height": 34
        },
        "outputId": "d8158f08-4103-4457-9fae-198a6f1b9e0f"
      },
      "source": [
        "d1[\"address\"]=\"banglore\" # changing the value of a key\n",
        "d1"
      ],
      "execution_count": 41,
      "outputs": [
        {
          "output_type": "execute_result",
          "data": {
            "text/plain": [
              "{'address': 'banglore', 'email': 'gitam@gmail.com', 'name': 'gitam'}"
            ]
          },
          "metadata": {
            "tags": []
          },
          "execution_count": 41
        }
      ]
    },
    {
      "cell_type": "code",
      "metadata": {
        "id": "DjYlgLeXem-4",
        "colab_type": "code",
        "colab": {
          "base_uri": "https://localhost:8080/",
          "height": 85
        },
        "outputId": "0d85c39e-b966-4537-be9a-b0d26a4ab1db"
      },
      "source": [
        "d1[\"course\"]= \"python\" # adding new entries in d1\n",
        "d1"
      ],
      "execution_count": 44,
      "outputs": [
        {
          "output_type": "execute_result",
          "data": {
            "text/plain": [
              "{'address': 'hyderabad',\n",
              " 'course': 'python',\n",
              " 'email': 'gitam@gmail.com',\n",
              " 'name': 'gitam'}"
            ]
          },
          "metadata": {
            "tags": []
          },
          "execution_count": 44
        }
      ]
    },
    {
      "cell_type": "markdown",
      "metadata": {
        "id": "5ds2sTvYfeXO",
        "colab_type": "text"
      },
      "source": [
        "# CRUD operations --> create,read,update,delete\n",
        "- do these operations for everything learning"
      ]
    },
    {
      "cell_type": "code",
      "metadata": {
        "id": "0Tjsc97sf9XO",
        "colab_type": "code",
        "colab": {
          "base_uri": "https://localhost:8080/",
          "height": 34
        },
        "outputId": "b70db742-56b5-4379-edfd-5f08b877e0c6"
      },
      "source": [
        "del d1[\"course\"] #deletes course key and value from doctionary\n",
        "d1"
      ],
      "execution_count": 45,
      "outputs": [
        {
          "output_type": "execute_result",
          "data": {
            "text/plain": [
              "{'address': 'hyderabad', 'email': 'gitam@gmail.com', 'name': 'gitam'}"
            ]
          },
          "metadata": {
            "tags": []
          },
          "execution_count": 45
        }
      ]
    },
    {
      "cell_type": "code",
      "metadata": {
        "id": "OJqUa_MYgGu1",
        "colab_type": "code",
        "colab": {
          "base_uri": "https://localhost:8080/",
          "height": 34
        },
        "outputId": "c362f3ca-0969-4b41-d9ce-5e85a9ce2f22"
      },
      "source": [
        "d1.keys()"
      ],
      "execution_count": 46,
      "outputs": [
        {
          "output_type": "execute_result",
          "data": {
            "text/plain": [
              "dict_keys(['name', 'email', 'address'])"
            ]
          },
          "metadata": {
            "tags": []
          },
          "execution_count": 46
        }
      ]
    },
    {
      "cell_type": "code",
      "metadata": {
        "id": "F_fSmZUMgJsV",
        "colab_type": "code",
        "colab": {
          "base_uri": "https://localhost:8080/",
          "height": 34
        },
        "outputId": "d4b0b71a-7ee6-43f4-960c-7d22404e75a0"
      },
      "source": [
        "d1.values()"
      ],
      "execution_count": 48,
      "outputs": [
        {
          "output_type": "execute_result",
          "data": {
            "text/plain": [
              "dict_values(['gitam', 'gitam@gmail.com', 'hyderabad'])"
            ]
          },
          "metadata": {
            "tags": []
          },
          "execution_count": 48
        }
      ]
    },
    {
      "cell_type": "code",
      "metadata": {
        "id": "gFbXwNXzgMu4",
        "colab_type": "code",
        "colab": {
          "base_uri": "https://localhost:8080/",
          "height": 34
        },
        "outputId": "ce54e1ce-4c9d-42f3-9703-6b6f0fc8287e"
      },
      "source": [
        "d1.items() # list of tuples of keys and values"
      ],
      "execution_count": 49,
      "outputs": [
        {
          "output_type": "execute_result",
          "data": {
            "text/plain": [
              "dict_items([('name', 'gitam'), ('email', 'gitam@gmail.com'), ('address', 'hyderabad')])"
            ]
          },
          "metadata": {
            "tags": []
          },
          "execution_count": 49
        }
      ]
    },
    {
      "cell_type": "markdown",
      "metadata": {
        "id": "Iwgt9rn_huwY",
        "colab_type": "text"
      },
      "source": [
        "# strings\n",
        "- strings\n",
        "- string slicing\n",
        "- fundamental programming with string in python"
      ]
    },
    {
      "cell_type": "code",
      "metadata": {
        "id": "nrEesOeTh6hR",
        "colab_type": "code",
        "colab": {
          "base_uri": "https://localhost:8080/",
          "height": 51
        },
        "outputId": "6f8a2c6e-7b9b-4d27-f249-7d5259a81c8c"
      },
      "source": [
        "s1='python'\n",
        "print(s1)\n",
        "print(type(s1))"
      ],
      "execution_count": 52,
      "outputs": [
        {
          "output_type": "stream",
          "text": [
            "python\n",
            "<class 'str'>\n"
          ],
          "name": "stdout"
        }
      ]
    },
    {
      "cell_type": "code",
      "metadata": {
        "id": "ZOfMBcRsiClM",
        "colab_type": "code",
        "colab": {
          "base_uri": "https://localhost:8080/",
          "height": 85
        },
        "outputId": "95396237-45fc-4857-aec2-a4dd8bd4f391"
      },
      "source": [
        "s1='python'\n",
        "print(s1[0])\n",
        "print(s1[1])\n",
        "print(s1[5])\n",
        "print(s1[len(s1)-1])"
      ],
      "execution_count": 53,
      "outputs": [
        {
          "output_type": "stream",
          "text": [
            "p\n",
            "y\n",
            "n\n",
            "n\n"
          ],
          "name": "stdout"
        }
      ]
    },
    {
      "cell_type": "code",
      "metadata": {
        "id": "wOf-1BXmjfyd",
        "colab_type": "code",
        "colab": {
          "base_uri": "https://localhost:8080/",
          "height": 136
        },
        "outputId": "cbd9f452-bd74-4046-dd64-793187a5fafa"
      },
      "source": [
        "print(s1)\n",
        "print(s1[-1])\n",
        "print(s1[-2])\n",
        "print(s1[0:2])\n",
        "print(s1[:2])\n",
        "print(s1[-3:])\n",
        "print(s1[2:])"
      ],
      "execution_count": 56,
      "outputs": [
        {
          "output_type": "stream",
          "text": [
            "python\n",
            "n\n",
            "o\n",
            "py\n",
            "py\n",
            "hon\n",
            "thon\n"
          ],
          "name": "stdout"
        }
      ]
    },
    {
      "cell_type": "code",
      "metadata": {
        "id": "gosPZcdKkmyg",
        "colab_type": "code",
        "colab": {
          "base_uri": "https://localhost:8080/",
          "height": 153
        },
        "outputId": "79486d8e-e8bf-401c-c104-04ea6ce12adc"
      },
      "source": [
        "print(s1)\n",
        "print(s1[1:-1]) #all chs execpt 1st and last\n",
        "print(s1[len(s1)//2]) #middle of str\n",
        "print(s1[-1::-1])# reverse the string -1::-1 also ::-1\n",
        "print(s1[-1:-3:-1]) # last two chrs in reverse\n",
        "# acess alternate characters\n",
        "print(s1[::2])# two characters \n",
        "print(s1[::3]) # three charecters\n",
        "print(s1[::-2])# from reverse order"
      ],
      "execution_count": 58,
      "outputs": [
        {
          "output_type": "stream",
          "text": [
            "python\n",
            "ytho\n",
            "h\n",
            "nohtyp\n",
            "no\n",
            "pto\n",
            "ph\n",
            "nhy\n"
          ],
          "name": "stdout"
        }
      ]
    },
    {
      "cell_type": "code",
      "metadata": {
        "id": "nMeR6nM4nlsS",
        "colab_type": "code",
        "colab": {
          "base_uri": "https://localhost:8080/",
          "height": 34
        },
        "outputId": "8750d947-c7cc-442e-dd7b-7210e1375990"
      },
      "source": [
        "def reversest(str):\n",
        "  return str[-1::-1]\n",
        "reversest(\"hello\")"
      ],
      "execution_count": 60,
      "outputs": [
        {
          "output_type": "execute_result",
          "data": {
            "text/plain": [
              "'olleh'"
            ]
          },
          "metadata": {
            "tags": []
          },
          "execution_count": 60
        }
      ]
    },
    {
      "cell_type": "code",
      "metadata": {
        "id": "HgdW6K_mnxb5",
        "colab_type": "code",
        "colab": {
          "base_uri": "https://localhost:8080/",
          "height": 34
        },
        "outputId": "ea16c603-a703-48f0-be43-cc400dd01de0"
      },
      "source": [
        "def palindrome(str):\n",
        "  if str==str[::-1]:  # ::-1 is same as -1::-1\n",
        "    return True\n",
        "  else:\n",
        "    return False\n",
        "palindrome(\"mom\")\n",
        "palindrome(\"hey\")"
      ],
      "execution_count": 63,
      "outputs": [
        {
          "output_type": "execute_result",
          "data": {
            "text/plain": [
              "False"
            ]
          },
          "metadata": {
            "tags": []
          },
          "execution_count": 63
        }
      ]
    },
    {
      "cell_type": "markdown",
      "metadata": {
        "id": "hppjUsMto6wc",
        "colab_type": "text"
      },
      "source": [
        "# string built in methods\n",
        "1. upper() -- conversts the given string to uppercase\n",
        "2. lower() -- convers the str to lower case"
      ]
    },
    {
      "cell_type": "code",
      "metadata": {
        "id": "b08FAHPkpLZL",
        "colab_type": "code",
        "colab": {
          "base_uri": "https://localhost:8080/",
          "height": 34
        },
        "outputId": "9f4691e0-12e5-4454-ce57-fa9b9c5e110c"
      },
      "source": [
        "s=\"PYthon\"\n",
        "s.upper()\n",
        "s.lower()"
      ],
      "execution_count": 66,
      "outputs": [
        {
          "output_type": "execute_result",
          "data": {
            "text/plain": [
              "'python'"
            ]
          },
          "metadata": {
            "tags": []
          },
          "execution_count": 66
        }
      ]
    },
    {
      "cell_type": "markdown",
      "metadata": {
        "id": "mSJ8QpmIpWTX",
        "colab_type": "text"
      },
      "source": [
        "# string boolean built in methods\n",
        "3. islower() -- true if all charecters are lower case\n",
        "4. isupper() -- ture if all chs are uppercase\n",
        "5. istitle() -- true if string in title case ( 1st let capital)\n",
        "6. isnumeric() -- true for numeric str\n",
        "7. isalpha() --  true if str only in alphabets\n",
        "8. isspace() --  true if str is space"
      ]
    },
    {
      "cell_type": "code",
      "metadata": {
        "id": "gJ-Z-8JIqPp2",
        "colab_type": "code",
        "colab": {
          "base_uri": "https://localhost:8080/",
          "height": 34
        },
        "outputId": "ac6231b4-45e1-4a29-dae6-186791f97f6c"
      },
      "source": [
        "ss='Asd'\n",
        "ss.islower()\n",
        "ss.isupper()\n",
        "ss.istitle()\n",
        "ss.isalpha()\n",
        "ss.isspace()"
      ],
      "execution_count": 71,
      "outputs": [
        {
          "output_type": "execute_result",
          "data": {
            "text/plain": [
              "False"
            ]
          },
          "metadata": {
            "tags": []
          },
          "execution_count": 71
        }
      ]
    },
    {
      "cell_type": "code",
      "metadata": {
        "id": "tSpakWtgrm1-",
        "colab_type": "code",
        "colab": {
          "base_uri": "https://localhost:8080/",
          "height": 68
        },
        "outputId": "d06739cf-c280-4776-9f97-1fb816cb3fda"
      },
      "source": [
        "s1='Python'\n",
        "print(s1.istitle())\n",
        "print(s1.isalpha())\n",
        "print(s1.isnumeric())"
      ],
      "execution_count": 75,
      "outputs": [
        {
          "output_type": "stream",
          "text": [
            "True\n",
            "True\n",
            "False\n"
          ],
          "name": "stdout"
        }
      ]
    },
    {
      "cell_type": "code",
      "metadata": {
        "id": "iKAgB8nVr5O_",
        "colab_type": "code",
        "colab": {
          "base_uri": "https://localhost:8080/",
          "height": 51
        },
        "outputId": "8d06b935-d9ea-4875-e608-670326cb39f7"
      },
      "source": [
        "s2='python'\n",
        "print(s2.islower())\n",
        "print(s2.isupper())"
      ],
      "execution_count": 77,
      "outputs": [
        {
          "output_type": "stream",
          "text": [
            "True\n",
            "False\n"
          ],
          "name": "stdout"
        }
      ]
    },
    {
      "cell_type": "markdown",
      "metadata": {
        "id": "tF_QkjYbs62H",
        "colab_type": "text"
      },
      "source": [
        "# string methods\n",
        "- join() -- method will concatinate two strings\n",
        "- split() -- split() returns th a list of strings seperated by whitespaces(no parameters)\n",
        "- replace() -- replaces the specific word/charecter with new ones"
      ]
    },
    {
      "cell_type": "code",
      "metadata": {
        "id": "ywVW6n9RtdBz",
        "colab_type": "code",
        "colab": {
          "base_uri": "https://localhost:8080/",
          "height": 34
        },
        "outputId": "ed40fcf4-fdcb-4fae-ce84-68dc86f3baad"
      },
      "source": [
        "s1='python'\n",
        "print(\" \".join(s1))"
      ],
      "execution_count": 78,
      "outputs": [
        {
          "output_type": "stream",
          "text": [
            "p y t h o n\n"
          ],
          "name": "stdout"
        }
      ]
    },
    {
      "cell_type": "code",
      "metadata": {
        "id": "an6yjXkxtm3A",
        "colab_type": "code",
        "colab": {
          "base_uri": "https://localhost:8080/",
          "height": 34
        },
        "outputId": "2406e6ce-df91-4c37-bfde-0776c8536be6"
      },
      "source": [
        "s2=\"python easy to learn\"\n",
        "print(\",\".join(s2))"
      ],
      "execution_count": 79,
      "outputs": [
        {
          "output_type": "stream",
          "text": [
            "p,y,t,h,o,n, ,e,a,s,y, ,t,o, ,l,e,a,r,n\n"
          ],
          "name": "stdout"
        }
      ]
    },
    {
      "cell_type": "code",
      "metadata": {
        "id": "2YAOlYo9tyWA",
        "colab_type": "code",
        "colab": {
          "base_uri": "https://localhost:8080/",
          "height": 34
        },
        "outputId": "5d11f82c-018e-4d8b-9197-6d89424aa3bc"
      },
      "source": [
        "li=['hey','welcome','hello']\n",
        "print(\" \".join(li))"
      ],
      "execution_count": 89,
      "outputs": [
        {
          "output_type": "stream",
          "text": [
            "hey welcome hello\n"
          ],
          "name": "stdout"
        }
      ]
    },
    {
      "cell_type": "code",
      "metadata": {
        "id": "p9KSBrCJuhKn",
        "colab_type": "code",
        "colab": {
          "base_uri": "https://localhost:8080/",
          "height": 34
        },
        "outputId": "3f68efa3-85c7-458d-cfc2-e8d8dc953475"
      },
      "source": [
        "s1=\"python is easy to learn\"\n",
        "print(s1.split())"
      ],
      "execution_count": 80,
      "outputs": [
        {
          "output_type": "stream",
          "text": [
            "['python', 'is', 'easy', 'to', 'learn']\n"
          ],
          "name": "stdout"
        }
      ]
    },
    {
      "cell_type": "code",
      "metadata": {
        "id": "BgcMwoHPuw19",
        "colab_type": "code",
        "colab": {
          "base_uri": "https://localhost:8080/",
          "height": 34
        },
        "outputId": "38c6e4b0-fee4-47d8-dba5-90edd00536a3"
      },
      "source": [
        "print(s1.split('a')) # splits at 'a'"
      ],
      "execution_count": 83,
      "outputs": [
        {
          "output_type": "stream",
          "text": [
            "['python is e', 'sy to le', 'rn']\n"
          ],
          "name": "stdout"
        }
      ]
    },
    {
      "cell_type": "code",
      "metadata": {
        "id": "xSnFee8Bu7DT",
        "colab_type": "code",
        "colab": {
          "base_uri": "https://localhost:8080/",
          "height": 68
        },
        "outputId": "2eb7a7e9-c575-4016-b950-980480f3e403"
      },
      "source": [
        "print(len(s1))\n",
        "print(s1.split())\n",
        "print(len(s1.split()))"
      ],
      "execution_count": 86,
      "outputs": [
        {
          "output_type": "stream",
          "text": [
            "23\n",
            "['python', 'is', 'easy', 'to', 'learn']\n",
            "5\n"
          ],
          "name": "stdout"
        }
      ]
    },
    {
      "cell_type": "code",
      "metadata": {
        "id": "FYh-Ys5ZvrGa",
        "colab_type": "code",
        "colab": {
          "base_uri": "https://localhost:8080/",
          "height": 34
        },
        "outputId": "263a1561-dd4a-49e4-f72f-1e63e58abee1"
      },
      "source": [
        "print(list(s1))"
      ],
      "execution_count": 91,
      "outputs": [
        {
          "output_type": "stream",
          "text": [
            "['p', 'y', 't', 'h', 'o', 'n', ' ', 'i', 's', ' ', 'e', 'a', 's', 'y', ' ', 't', 'o', ' ', 'l', 'e', 'a', 'r', 'n']\n"
          ],
          "name": "stdout"
        }
      ]
    },
    {
      "cell_type": "code",
      "metadata": {
        "id": "I_9r66wRvvur",
        "colab_type": "code",
        "colab": {
          "base_uri": "https://localhost:8080/",
          "height": 34
        },
        "outputId": "94c63e2f-de92-4e78-eebd-01b1c964c6e8"
      },
      "source": [
        "print(s2.replace(\"pyt\",'changed'))"
      ],
      "execution_count": 92,
      "outputs": [
        {
          "output_type": "stream",
          "text": [
            "changedhon easy to learn\n"
          ],
          "name": "stdout"
        }
      ]
    }
  ]
}