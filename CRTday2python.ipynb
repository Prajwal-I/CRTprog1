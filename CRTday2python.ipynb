{
  "nbformat": 4,
  "nbformat_minor": 0,
  "metadata": {
    "colab": {
      "name": "CRTday2python.ipynb",
      "provenance": [],
      "include_colab_link": true
    },
    "kernelspec": {
      "name": "python3",
      "display_name": "Python 3"
    }
  },
  "cells": [
    {
      "cell_type": "markdown",
      "metadata": {
        "id": "view-in-github",
        "colab_type": "text"
      },
      "source": [
        "<a href=\"https://colab.research.google.com/github/codex8085/CRTprog1/blob/master/CRTday2python.ipynb\" target=\"_parent\"><img src=\"https://colab.research.google.com/assets/colab-badge.svg\" alt=\"Open In Colab\"/></a>"
      ]
    },
    {
      "cell_type": "code",
      "metadata": {
        "id": "HYR3uBVyCVBL",
        "colab_type": "code",
        "colab": {}
      },
      "source": [
        ""
      ],
      "execution_count": 0,
      "outputs": []
    },
    {
      "cell_type": "markdown",
      "metadata": {
        "id": "7ZuQWOIDCWc_",
        "colab_type": "text"
      },
      "source": [
        "## functional programming\n",
        "1. simple\n",
        "2. easy to understand\n",
        "3. better reusability\n",
        "4. length of the program will be subdivided"
      ]
    },
    {
      "cell_type": "code",
      "metadata": {
        "id": "QRsGo1NYDeY7",
        "colab_type": "code",
        "colab": {}
      },
      "source": [
        "# syntax\n",
        "def function_name(<parameter>):\n",
        "  statement\n",
        "  return"
      ],
      "execution_count": 0,
      "outputs": []
    },
    {
      "cell_type": "code",
      "metadata": {
        "id": "5ez39B_SD3tn",
        "colab_type": "code",
        "colab": {
          "base_uri": "https://localhost:8080/",
          "height": 34
        },
        "outputId": "81d635ff-2d4e-4004-8702-379a929b1bbc"
      },
      "source": [
        "# read a number and print even digits sum\n",
        "def evedigsum(n):\n",
        "  s=0\n",
        "  while n!=0:\n",
        "    r=n%10\n",
        "    if r%2==0:\n",
        "      s=s+r\n",
        "    n=n//10\n",
        "  return s\n",
        "evedigsum(212)"
      ],
      "execution_count": 3,
      "outputs": [
        {
          "output_type": "execute_result",
          "data": {
            "text/plain": [
              "4"
            ]
          },
          "metadata": {
            "tags": []
          },
          "execution_count": 3
        }
      ]
    },
    {
      "cell_type": "code",
      "metadata": {
        "id": "ZFvturD3GwfN",
        "colab_type": "code",
        "colab": {
          "base_uri": "https://localhost:8080/",
          "height": 51
        },
        "outputId": "e260f1ed-851c-440c-984d-03b508594c71"
      },
      "source": [
        "def square(x):\n",
        "  print(x*x)\n",
        "print(square(3))"
      ],
      "execution_count": 4,
      "outputs": [
        {
          "output_type": "stream",
          "text": [
            "9\n",
            "None\n"
          ],
          "name": "stdout"
        }
      ]
    },
    {
      "cell_type": "code",
      "metadata": {
        "id": "ZZamVm_WHVX_",
        "colab_type": "code",
        "colab": {
          "base_uri": "https://localhost:8080/",
          "height": 34
        },
        "outputId": "69c2b0fe-2b69-4693-c4a4-b3de441d7819"
      },
      "source": [
        "def square(x):\n",
        "  return x*x\n",
        "square(4)"
      ],
      "execution_count": 5,
      "outputs": [
        {
          "output_type": "execute_result",
          "data": {
            "text/plain": [
              "16"
            ]
          },
          "metadata": {
            "tags": []
          },
          "execution_count": 5
        }
      ]
    }
  ]
}