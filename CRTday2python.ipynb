{
  "nbformat": 4,
  "nbformat_minor": 0,
  "metadata": {
    "colab": {
      "name": "CRTday2python.ipynb",
      "provenance": [],
      "collapsed_sections": [],
      "include_colab_link": true
    },
    "kernelspec": {
      "name": "python3",
      "display_name": "Python 3"
    }
  },
  "cells": [
    {
      "cell_type": "markdown",
      "metadata": {
        "id": "view-in-github",
        "colab_type": "text"
      },
      "source": [
        "<a href=\"https://colab.research.google.com/github/codex8085/CRTprog1/blob/master/CRTday2python.ipynb\" target=\"_parent\"><img src=\"https://colab.research.google.com/assets/colab-badge.svg\" alt=\"Open In Colab\"/></a>"
      ]
    },
    {
      "cell_type": "code",
      "metadata": {
        "id": "HYR3uBVyCVBL",
        "colab_type": "code",
        "colab": {}
      },
      "source": [
        ""
      ],
      "execution_count": 0,
      "outputs": []
    },
    {
      "cell_type": "markdown",
      "metadata": {
        "id": "7ZuQWOIDCWc_",
        "colab_type": "text"
      },
      "source": [
        "## functional programming\n",
        "1. simple\n",
        "2. easy to understand\n",
        "3. better reusability\n",
        "4. length of the program will be subdivided"
      ]
    },
    {
      "cell_type": "code",
      "metadata": {
        "id": "QRsGo1NYDeY7",
        "colab_type": "code",
        "colab": {}
      },
      "source": [
        "# syntax\n",
        "def function_name(<parameter>):\n",
        "  statement\n",
        "  return"
      ],
      "execution_count": 0,
      "outputs": []
    },
    {
      "cell_type": "code",
      "metadata": {
        "id": "5ez39B_SD3tn",
        "colab_type": "code",
        "colab": {
          "base_uri": "https://localhost:8080/",
          "height": 34
        },
        "outputId": "81d635ff-2d4e-4004-8702-379a929b1bbc"
      },
      "source": [
        "# read a number and print even digits sum\n",
        "def evedigsum(n):\n",
        "  s=0\n",
        "  while n!=0:\n",
        "    r=n%10\n",
        "    if r%2==0:\n",
        "      s=s+r\n",
        "    n=n//10\n",
        "  return s\n",
        "evedigsum(212)"
      ],
      "execution_count": 3,
      "outputs": [
        {
          "output_type": "execute_result",
          "data": {
            "text/plain": [
              "4"
            ]
          },
          "metadata": {
            "tags": []
          },
          "execution_count": 3
        }
      ]
    },
    {
      "cell_type": "code",
      "metadata": {
        "id": "ZFvturD3GwfN",
        "colab_type": "code",
        "colab": {
          "base_uri": "https://localhost:8080/",
          "height": 51
        },
        "outputId": "24ca5f51-ab3e-47b3-e758-8eab15ed3460"
      },
      "source": [
        "def square(x):\n",
        "  print(x*x)\n",
        "print(square(3))\n"
      ],
      "execution_count": 8,
      "outputs": [
        {
          "output_type": "stream",
          "text": [
            "9\n",
            "None\n"
          ],
          "name": "stdout"
        }
      ]
    },
    {
      "cell_type": "code",
      "metadata": {
        "id": "ZZamVm_WHVX_",
        "colab_type": "code",
        "colab": {
          "base_uri": "https://localhost:8080/",
          "height": 34
        },
        "outputId": "df12b99d-f68a-432f-bdac-6c237f6b3fc4"
      },
      "source": [
        "def square(x):\n",
        "  return x*x\n",
        "square(4)\n",
        "e=square(5)\n",
        "print(e+1)"
      ],
      "execution_count": 6,
      "outputs": [
        {
          "output_type": "stream",
          "text": [
            "26\n"
          ],
          "name": "stdout"
        }
      ]
    },
    {
      "cell_type": "code",
      "metadata": {
        "id": "M6kbThzkJRzp",
        "colab_type": "code",
        "colab": {
          "base_uri": "https://localhost:8080/",
          "height": 170
        },
        "outputId": "035edd48-9323-477a-9d4e-9d1ebfd0695e"
      },
      "source": [
        "def mult(x,y=0):\n",
        "  print(\"x value is \",x)\n",
        "  print(\"y value is \",y)\n",
        "  return(x*y)\n",
        "print(mult(1,2))\n",
        "print(mult(y=3,x=4))\n",
        "print(mult(3))"
      ],
      "execution_count": 11,
      "outputs": [
        {
          "output_type": "stream",
          "text": [
            "x value is  1\n",
            "y value is  2\n",
            "2\n",
            "x value is  4\n",
            "y value is  3\n",
            "12\n",
            "x value is  3\n",
            "y value is  0\n",
            "0\n"
          ],
          "name": "stdout"
        }
      ]
    },
    {
      "cell_type": "code",
      "metadata": {
        "id": "rW0xiq5mKi-T",
        "colab_type": "code",
        "colab": {
          "base_uri": "https://localhost:8080/",
          "height": 102
        },
        "outputId": "a5e6c056-15c5-4234-d791-e62f308b4967"
      },
      "source": [
        "# swap values\n",
        "def swap(x,y):\n",
        "  print(\"x is \",x)\n",
        "  print(\"y is \",y)\n",
        "  t=x\n",
        "  x=y\n",
        "  y=t\n",
        "  print(\"new x is \",x)\n",
        "  print(\"new y is \",y)\n",
        "  return x,y\n",
        "swap(2,1)"
      ],
      "execution_count": 14,
      "outputs": [
        {
          "output_type": "stream",
          "text": [
            "x is  2\n",
            "y is  1\n",
            "new x is  1\n",
            "new y is  2\n"
          ],
          "name": "stdout"
        },
        {
          "output_type": "execute_result",
          "data": {
            "text/plain": [
              "(1, 2)"
            ]
          },
          "metadata": {
            "tags": []
          },
          "execution_count": 14
        }
      ]
    },
    {
      "cell_type": "code",
      "metadata": {
        "id": "2lbQZ9jhL7Mw",
        "colab_type": "code",
        "colab": {
          "base_uri": "https://localhost:8080/",
          "height": 34
        },
        "outputId": "2600f99a-6602-49e9-c380-e7dfb252d836"
      },
      "source": [
        "# large digit of the number\n",
        "def lar(x):\n",
        "  l=0\n",
        "  while(x!=0):\n",
        "    r=x%10\n",
        "    if l<r:\n",
        "      l=r\n",
        "    x=x//10\n",
        "  return l\n",
        "lar(122314599)"
      ],
      "execution_count": 29,
      "outputs": [
        {
          "output_type": "execute_result",
          "data": {
            "text/plain": [
              "9"
            ]
          },
          "metadata": {
            "tags": []
          },
          "execution_count": 29
        }
      ]
    },
    {
      "cell_type": "markdown",
      "metadata": {
        "id": "stKwSL7_R7Ec",
        "colab_type": "text"
      },
      "source": [
        "# for loop\n",
        "### syntax 1\n",
        "for i in range (start,stop,step):\n",
        "> statement\n",
        "### syntax 2\n",
        "for i in Iterableobject:\n",
        "> statement"
      ]
    },
    {
      "cell_type": "code",
      "metadata": {
        "id": "sjxcZe-lSfKt",
        "colab_type": "code",
        "colab": {
          "base_uri": "https://localhost:8080/",
          "height": 34
        },
        "outputId": "16df87b8-adc1-474a-d9d1-a76883b2e12d"
      },
      "source": [
        "def print_series(lb,ub):\n",
        "  for x in range(lb,ub+1):\n",
        "    print(x,end = \" \")\n",
        "  return\n",
        "print_series(1,20)"
      ],
      "execution_count": 30,
      "outputs": [
        {
          "output_type": "stream",
          "text": [
            "1 2 3 4 5 6 7 8 9 10 11 12 13 14 15 16 17 18 19 20 "
          ],
          "name": "stdout"
        }
      ]
    },
    {
      "cell_type": "markdown",
      "metadata": {
        "id": "FffbsCmaVqmI",
        "colab_type": "text"
      },
      "source": [
        "# data structers\n",
        "1. list\n",
        "2. tuple\n",
        "3. set\n",
        "4. dictionary\n"
      ]
    },
    {
      "cell_type": "markdown",
      "metadata": {
        "id": "bXJQ6h0YV3nn",
        "colab_type": "text"
      },
      "source": [
        "# list\n",
        "1. one of the data structures in python.\n",
        "2. data structures have store, sort and search options\n",
        "3. its a comon data structure in python, item of the list are seperated by comma and are enclosed in [ ]\n",
        "\n",
        "#### example\n",
        "- list1=[1,2,3,4]\n",
        "- list2=[\"gitam\",1,2,3]\n",
        "\n",
        "\n",
        "\n",
        "- address --> 0,1,2  (index)\n",
        "-       list=[1,2,3]\n",
        "-            -3,-2,-1 <-- index       "
      ]
    },
    {
      "cell_type": "code",
      "metadata": {
        "id": "AYy4O_StYBw_",
        "colab_type": "code",
        "colab": {
          "base_uri": "https://localhost:8080/",
          "height": 136
        },
        "outputId": "255a8925-5324-49b0-fe79-a31b58b7def7"
      },
      "source": [
        "lis=[1,2,3,4,5,6,7,8]\n",
        "print(lis)\n",
        "print(lis[2])\n",
        "print(lis[-6])\n",
        "print(lis[2:])\n",
        "print(lis[2:5])\n",
        "print(lis[-6:-3])\n"
      ],
      "execution_count": 38,
      "outputs": [
        {
          "output_type": "stream",
          "text": [
            "[1, 2, 3, 4, 5, 6, 7, 8]\n",
            "3\n",
            "3\n",
            "[3, 4, 5, 6, 7, 8]\n",
            "[3, 4, 5]\n",
            "[3, 4, 5]\n",
            "[]\n"
          ],
          "name": "stdout"
        }
      ]
    },
    {
      "cell_type": "code",
      "metadata": {
        "id": "kT2Hy9gObU-4",
        "colab_type": "code",
        "colab": {
          "base_uri": "https://localhost:8080/",
          "height": 85
        },
        "outputId": "946aac29-f30a-46f5-c25f-b1c586f6e182"
      },
      "source": [
        "lili=[1,2,3,'gitam']\n",
        "print(lili)\n",
        "lili[2]=475\n",
        "print(lili)\n",
        "lili[3]=34\n",
        "print(lili)\n",
        "lili[1]='tewr'\n",
        "print(lili)"
      ],
      "execution_count": 44,
      "outputs": [
        {
          "output_type": "stream",
          "text": [
            "[1, 2, 3, 'gitam']\n",
            "[1, 2, 475, 'gitam']\n",
            "[1, 2, 475, 34]\n",
            "[1, 'tewr', 475, 34]\n"
          ],
          "name": "stdout"
        }
      ]
    },
    {
      "cell_type": "code",
      "metadata": {
        "id": "a-fjrhPScUP6",
        "colab_type": "code",
        "colab": {
          "base_uri": "https://localhost:8080/",
          "height": 51
        },
        "outputId": "4d0010a4-696f-40bd-c941-2cd62b299613"
      },
      "source": [
        "#delete item\n",
        "lis=[1,2,3,4,5,6]\n",
        "print(lis)\n",
        "del lis[2] #delete '3'\n",
        "print(lis)"
      ],
      "execution_count": 45,
      "outputs": [
        {
          "output_type": "stream",
          "text": [
            "[1, 2, 3, 4, 5, 6]\n",
            "[1, 2, 4, 5, 6]\n"
          ],
          "name": "stdout"
        }
      ]
    },
    {
      "cell_type": "code",
      "metadata": {
        "id": "OHzoFwJdc4Bm",
        "colab_type": "code",
        "colab": {
          "base_uri": "https://localhost:8080/",
          "height": 34
        },
        "outputId": "247c03ae-65fc-4095-a0d1-b2677978ab23"
      },
      "source": [
        "# list operations\n",
        "listt=[1,2,3,4,55,66]\n",
        "print(len(listt))"
      ],
      "execution_count": 46,
      "outputs": [
        {
          "output_type": "stream",
          "text": [
            "6\n"
          ],
          "name": "stdout"
        }
      ]
    }
  ]
}