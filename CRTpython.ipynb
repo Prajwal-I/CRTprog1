{
 "cells": [
  {
   "cell_type": "code",
   "execution_count": 2,
   "metadata": {},
   "outputs": [
    {
     "name": "stdout",
     "output_type": "stream",
     "text": [
      "welcome\n"
     ]
    }
   ],
   "source": [
    "print(\"welcome\")"
   ]
  },
  {
   "cell_type": "code",
   "execution_count": null,
   "metadata": {},
   "outputs": [],
   "source": [
    "e=2.11\n",
    "print(e)"
   ]
  },
  {
   "cell_type": "markdown",
   "metadata": {},
   "source": [
    "# test\n",
    "## test2\n",
    "### test3\n",
    "##### test 4\n",
    "###### test5\n"
   ]
  },
  {
   "cell_type": "markdown",
   "metadata": {},
   "source": [
    "## image\n",
    "![text](data:image/jpeg;base64,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)\n"
   ]
  },
  {
   "cell_type": "markdown",
   "metadata": {},
   "source": [
    "## site\n",
    "[site](https://www.amazon.in/?ie=UTF8&tag=googinabkvernac-21&ascsubtag=_k_Cj0KCQiAiZPvBRDZARIsAORkq7dqxTysdwCXrWddlwMKQtgt1dBpyfIajCCEsCeCjjCNfNlA6mxItn0aAmOvEALw_wcB_k_&ext_vrnc=hi&gclid=Cj0KCQiAiZPvBRDZARIsAORkq7dqxTysdwCXrWddlwMKQtgt1dBpyfIajCCEsCeCjjCNfNlA6mxItn0aAmOvEALw_wcB)"
   ]
  },
  {
   "cell_type": "markdown",
   "metadata": {},
   "source": [
    "## ordered list\n",
    "1. asfef\n",
    "2. fasef <br>\n",
    "     a. sf<br>\n",
    "     b. ada"
   ]
  },
  {
   "cell_type": "markdown",
   "metadata": {},
   "source": [
    "**bold**\n",
    "*bold*"
   ]
  },
  {
   "cell_type": "code",
   "execution_count": 4,
   "metadata": {},
   "outputs": [
    {
     "data": {
      "text/plain": [
       "7"
      ]
     },
     "execution_count": 4,
     "metadata": {},
     "output_type": "execute_result"
    }
   ],
   "source": [
    "a=3\n",
    "b=4\n",
    "a+b"
   ]
  },
  {
   "cell_type": "code",
   "execution_count": 5,
   "metadata": {},
   "outputs": [
    {
     "name": "stdout",
     "output_type": "stream",
     "text": [
      "heyhello\n"
     ]
    }
   ],
   "source": [
    "a=\"hello\"\n",
    "print(\"hey\"+a)"
   ]
  },
  {
   "cell_type": "code",
   "execution_count": 7,
   "metadata": {},
   "outputs": [
    {
     "name": "stdout",
     "output_type": "stream",
     "text": [
      "enter a num1\n",
      "enter a charsdf\n",
      "number 1 char sdf\n"
     ]
    }
   ],
   "source": [
    "a=int(input(\"enter a num\"))\n",
    "b=input(\"enter a char\")\n",
    "print(\"number\",a,\"char\",b)"
   ]
  },
  {
   "cell_type": "code",
   "execution_count": 11,
   "metadata": {},
   "outputs": [
    {
     "name": "stdout",
     "output_type": "stream",
     "text": [
      "enter number 4\n",
      "enter numer 3\n",
      "the arithmetic operations performed   [+]: 7  [-]: 1  [*]: 12  [/]: 1.3333333333333333\n"
     ]
    }
   ],
   "source": [
    "a=int(input(\"enter number \"))\n",
    "b=int(input(\"enter numer \"))\n",
    "c=a+b\n",
    "d=a-b\n",
    "e=a*b\n",
    "f=a/b\n",
    "print(\"the arithmetic operations performed \",\" [+]:\",c,\" [-]:\",d,\" [*]:\",e,\" [/]:\",f)"
   ]
  },
  {
   "cell_type": "code",
   "execution_count": 13,
   "metadata": {},
   "outputs": [
    {
     "name": "stdout",
     "output_type": "stream",
     "text": [
      "<class 'int'> <class 'float'> <class 'complex'>\n"
     ]
    }
   ],
   "source": [
    "a=32\n",
    "b=3.55\n",
    "c=4+6j\n",
    "print(type(a),type(b),type(c))"
   ]
  },
  {
   "cell_type": "code",
   "execution_count": 15,
   "metadata": {},
   "outputs": [
    {
     "name": "stdout",
     "output_type": "stream",
     "text": [
      "(3+2j)\n"
     ]
    }
   ],
   "source": [
    "a= complex(3,2)\n",
    "print(a)\n"
   ]
  },
  {
   "cell_type": "code",
   "execution_count": 17,
   "metadata": {},
   "outputs": [
    {
     "name": "stdout",
     "output_type": "stream",
     "text": [
      "(12+7j) (-4+3j) (22+48j) (0.6176470588235294+0.47058823529411764j)\n"
     ]
    }
   ],
   "source": [
    "c1=4+5j\n",
    "c2=8+2j\n",
    "a=c1+c2\n",
    "b=c1-c2\n",
    "c=c1*c2\n",
    "d=c1/c2\n",
    "print(a,b,c,d)"
   ]
  },
  {
   "cell_type": "code",
   "execution_count": 24,
   "metadata": {},
   "outputs": [
    {
     "data": {
      "text/plain": [
       "True"
      ]
     },
     "execution_count": 24,
     "metadata": {},
     "output_type": "execute_result"
    }
   ],
   "source": [
    "a=24\n",
    "b=23\n",
    "a>b\n",
    "a<b\n",
    "a!=b"
   ]
  },
  {
   "cell_type": "code",
   "execution_count": 26,
   "metadata": {},
   "outputs": [
    {
     "name": "stdout",
     "output_type": "stream",
     "text": [
      "<class 'str'> <class 'str'>\n"
     ]
    }
   ],
   "source": [
    "a=\"acb\"\n",
    "b=\"efg\"\n",
    "print(type(a),type(b))"
   ]
  },
  {
   "cell_type": "code",
   "execution_count": 28,
   "metadata": {},
   "outputs": [
    {
     "name": "stdout",
     "output_type": "stream",
     "text": [
      "<class 'str'>\n",
      "<class 'int'> 200\n",
      "<class 'float'>\n",
      "<class 'int'> 8\n"
     ]
    }
   ],
   "source": [
    "a=\"200\"\n",
    "print(type(a))\n",
    "b=int(a)\n",
    "print(type(b),b)\n",
    "c=8.44\n",
    "print(type(c))\n",
    "d=int(c)\n",
    "print(type(d),d)"
   ]
  },
  {
   "cell_type": "code",
   "execution_count": 30,
   "metadata": {},
   "outputs": [
    {
     "name": "stdout",
     "output_type": "stream",
     "text": [
      "4\n"
     ]
    }
   ],
   "source": [
    "a=1234\n",
    "b=len(str(a))\n",
    "print(b)"
   ]
  },
  {
   "cell_type": "code",
   "execution_count": 42,
   "metadata": {},
   "outputs": [
    {
     "name": "stdout",
     "output_type": "stream",
     "text": [
      "a=3,b=2\n",
      "[+]: 5  [-]: 1  [*]: 6  [/]: 1.5 [**]: 9 [%] 1 [//]: 1\n"
     ]
    }
   ],
   "source": [
    "print(\"a=3,b=2\")\n",
    "print(\"[+]:\",3+2,\" [-]:\",3-2,\" [*]:\",3*2,\" [/]:\",3/2,\"[**]:\",3**2,\"[%]\",3%2,\"[//]:\",3//2)"
   ]
  },
  {
   "cell_type": "markdown",
   "metadata": {},
   "source": [
    "### operators\n",
    "1. aRithmetic: +,-,*,%,//,**\n",
    "2. logical: and,or,not\n",
    "3. relational: >,<,==,!=,<=,>=\n",
    "4. membership operators: in, not in"
   ]
  },
  {
   "cell_type": "code",
   "execution_count": 44,
   "metadata": {},
   "outputs": [
    {
     "name": "stdout",
     "output_type": "stream",
     "text": [
      "True\n",
      "False\n",
      "False\n",
      "True\n",
      "True\n",
      "False\n"
     ]
    }
   ],
   "source": [
    "# relational operator\n",
    "print(a>b)\n",
    "print(a<b)\n",
    "print(a==b)\n",
    "print(a!=b)\n",
    "print(a>=b)\n",
    "print(a<=b)"
   ]
  },
  {
   "cell_type": "code",
   "execution_count": 58,
   "metadata": {},
   "outputs": [
    {
     "name": "stdout",
     "output_type": "stream",
     "text": [
      "False\n",
      "True\n",
      "True\n",
      "False\n",
      "True\n",
      "False\n"
     ]
    }
   ],
   "source": [
    "# logical operators\n",
    "print(3>=2 and 4<=3) \n",
    "print(3>=2 or 4<=3)\n",
    "print(not 7>10)\n",
    "print(not 7>3)\n",
    "print(not 0)\n",
    "print(not 4)"
   ]
  },
  {
   "cell_type": "code",
   "execution_count": 59,
   "metadata": {},
   "outputs": [
    {
     "name": "stdout",
     "output_type": "stream",
     "text": [
      "True\n",
      "False\n",
      "True\n",
      "False\n",
      "False\n",
      "True\n"
     ]
    }
   ],
   "source": [
    "print(3>2)\n",
    "print(3<2)\n",
    "print(3>=2)\n",
    "print(3<=2)\n",
    "print(3==2)\n",
    "print(3!=2)"
   ]
  },
  {
   "cell_type": "markdown",
   "metadata": {},
   "source": [
    "# membership operators\n",
    "## in --> true if value is found in sequence\n",
    "## not in --> true if value is not found in sequence"
   ]
  },
  {
   "cell_type": "code",
   "execution_count": 61,
   "metadata": {},
   "outputs": [
    {
     "name": "stdout",
     "output_type": "stream",
     "text": [
      "True\n",
      "False\n",
      "False\n",
      "True\n"
     ]
    }
   ],
   "source": [
    "list=[1,2,3,4]\n",
    "print(1 in list)\n",
    "print(5 in list)\n",
    "print(1 not in list)\n",
    "print(5 not in list)"
   ]
  },
  {
   "cell_type": "markdown",
   "metadata": {},
   "source": [
    "# conditional statements\n",
    "1. if\n",
    "2. else\n",
    "3. elif\n",
    "## syntax\n",
    "#### if condition:\n",
    "> statements<br>\n",
    "#### else:\n",
    "> statement"
   ]
  },
  {
   "cell_type": "code",
   "execution_count": null,
   "metadata": {},
   "outputs": [],
   "source": [
    "a=int(input(\"enter a number\"))\n",
    "if a%2 == 0:\n",
    "    print(\"even number\")\n",
    "else:\n",
    "    print(\"odd\")"
   ]
  },
  {
   "cell_type": "code",
   "execution_count": null,
   "metadata": {},
   "outputs": [],
   "source": [
    "p=int(input(\"enter a number\"))\n",
    "if p%3==0 and p%5==0:\n",
    "    print(\"divisible by both 3 and 5\")\n",
    "else:\n",
    "    print(\"not divisible by both 5 and 3\")"
   ]
  },
  {
   "cell_type": "code",
   "execution_count": 12,
   "metadata": {},
   "outputs": [
    {
     "name": "stdout",
     "output_type": "stream",
     "text": [
      "enter any integer 0\n",
      "zero\n"
     ]
    }
   ],
   "source": [
    "q=int(input(\"enter any integer \"))\n",
    "if q==0:\n",
    "    print(\"zero\")\n",
    "elif q>0:\n",
    "    print(\"positive\")\n",
    "else :\n",
    "    print(\"negative\")"
   ]
  },
  {
   "cell_type": "code",
   "execution_count": null,
   "metadata": {},
   "outputs": [],
   "source": [
    "y=int(input(\"year please\"))\n",
    "if y%4==0 and y%100!=0 or y%400==0:\n",
    "    print(\"leap year it is\")\n",
    "else:\n",
    "    print(\"not leap year\")"
   ]
  },
  {
   "cell_type": "markdown",
   "metadata": {},
   "source": [
    "# loops\n",
    "## while loop\n",
    "## for loop"
   ]
  },
  {
   "cell_type": "code",
   "execution_count": null,
   "metadata": {},
   "outputs": [],
   "source": [
    "# while loop\n",
    "# print 1 to n\n",
    "a= int (input(\"enter a number\"))\n",
    "i=1\n",
    "while a>=i :\n",
    "    print(i,end=\" \") #if end= not present op= 1 2 3 ..\n",
    "    i=i+1\n",
    "    "
   ]
  },
  {
   "cell_type": "code",
   "execution_count": 3,
   "metadata": {},
   "outputs": [
    {
     "name": "stdout",
     "output_type": "stream",
     "text": [
      "enter a number 6\n",
      "sum of even numbers till 6 is  12\n"
     ]
    }
   ],
   "source": [
    "a= int(input(\"enter a number \"))\n",
    "i=1\n",
    "s=0\n",
    "while a>=i:\n",
    "    if i%2==0:\n",
    "        s=s+i\n",
    "    i=i+1\n",
    "print(\"sum of even numbers till\",a,\"is \",s)"
   ]
  }
 ],
 "metadata": {
  "kernelspec": {
   "display_name": "Python 3",
   "language": "python",
   "name": "python3"
  },
  "language_info": {
   "codemirror_mode": {
    "name": "ipython",
    "version": 3
   },
   "file_extension": ".py",
   "mimetype": "text/x-python",
   "name": "python",
   "nbconvert_exporter": "python",
   "pygments_lexer": "ipython3",
   "version": "3.7.4"
  }
 },
 "nbformat": 4,
 "nbformat_minor": 2
}
